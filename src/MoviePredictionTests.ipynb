{
 "cells": [
  {
   "cell_type": "markdown",
   "metadata": {},
   "source": [
    "# Testing Machine Learning \n",
    "\n",
    "I test a machine learning model to predict the rating for a movie using the pre-processed and joined datasets from the IMDb and openMDb data sources."
   ]
  },
  {
   "cell_type": "code",
   "execution_count": 2,
   "metadata": {
    "collapsed": false,
    "deletable": true,
    "editable": true
   },
   "outputs": [],
   "source": [
    "#Import libraries\n",
    "\n",
    "import numpy as np\n",
    "import pandas as pd\n",
    "import matplotlib\n",
    "%matplotlib inline\n",
    "import matplotlib.pyplot as plt\n",
    "import seaborn as sns\n",
    "\n",
    "from sklearn.cross_validation import train_test_split\n",
    "from sklearn.metrics import accuracy_score\n",
    "from sklearn.metrics import log_loss\n",
    "from sklearn.metrics import confusion_matrix\n",
    "\n",
    "from sklearn import naive_bayes\n",
    "from sklearn import linear_model\n",
    "from sklearn import svm\n",
    "from sklearn import neighbors\n",
    "from sklearn import cluster\n",
    "from sklearn import tree\n",
    "from sklearn import ensemble\n",
    "from sklearn import preprocessing\n",
    "\n",
    "# Compute confusion matrix\n",
    "def plot_confusion_matrix(cm, title='Confusion matrix', cmap=plt.cm.Blues):\n",
    "    plt.imshow(cm, interpolation='nearest', cmap=cmap)\n",
    "    plt.title(title)\n",
    "    plt.colorbar()\n",
    "    plt.tight_layout()\n",
    "    plt.ylabel('True label')\n",
    "    plt.xlabel('Predicted label')"
   ]
  },
  {
   "cell_type": "markdown",
   "metadata": {},
   "source": [
    "I load the dataset, then use the LabelEncoder to create labels for the Director and Genre columns. Finally, I encode the year as a label as well."
   ]
  },
  {
   "cell_type": "code",
   "execution_count": 4,
   "metadata": {
    "collapsed": false,
    "deletable": true,
    "editable": true
   },
   "outputs": [],
   "source": [
    "dbbig = pd.read_csv(\"../data/movie_ratings_simple.csv\")\n",
    "\n",
    "genres=pd.concat([dbbig['Genre1'],dbbig['Genre2'],dbbig['Genre3']])\n",
    "\n",
    "#Try model fitting on just director, year, and genre and see what we get.\n",
    "\n",
    "#Get a reduced dataframe with the stuff we need\n",
    "#dfred = dbbig[[\"Director1\",\"year\",\"Genre1\",'Genre2','Genre3']]\n",
    "dfred = pd.DataFrame()\n",
    "#This needs to be re-shaped. There should be a single \"Genre\" category and movies that have multiple Genres should have multiple\n",
    "y=(dbbig[\"stars\"].reset_index())['stars']\n",
    "\n",
    "leD = preprocessing.LabelEncoder()\n",
    "leD.fit(dbbig[\"Director1\"])\n",
    "dfred['Director']=leD.transform(dbbig[\"Director1\"])\n",
    "\n",
    "leG = preprocessing.LabelEncoder()\n",
    "leG.fit(genres)\n",
    "dfred['Genre1'] = leG.transform(dbbig['Genre1'])\n",
    "dfred['Genre2'] = leG.transform(dbbig['Genre2'])\n",
    "dfred['Genre3'] = leG.transform(dbbig['Genre3'])\n",
    "\n",
    "leY = preprocessing.LabelEncoder()\n",
    "leY.fit(dbbig['year'])\n",
    "dfred['year'] = leY.transform(dbbig['year'])\n"
   ]
  },
  {
   "cell_type": "markdown",
   "metadata": {
    "collapsed": true,
    "deletable": true,
    "editable": true
   },
   "source": [
    "I try using a random forest classifier to see how well it works at predicting the number of stars for out-of-sample data."
   ]
  },
  {
   "cell_type": "code",
   "execution_count": 6,
   "metadata": {
    "collapsed": false,
    "deletable": true,
    "editable": true
   },
   "outputs": [
    {
     "name": "stdout",
     "output_type": "stream",
     "text": [
      "score = 0.398299939284\n",
      "[ 0.31  0.16  0.13  0.09  0.32]\n",
      "Confusion matrix, without normalization\n",
      "[[  0   0   1   2   5   2   1   0   0]\n",
      " [  0   0   1   0  11   3   0   0   0]\n",
      " [  0   1   5  10  54  15   2   0   0]\n",
      " [  0   1   1  18 124  31   8   0   0]\n",
      " [  0   0   3  23 306 162  17   0   0]\n",
      " [  0   0   1  10 217 242  80   0   0]\n",
      " [  0   0   1   0  51 130  85   0   0]\n",
      " [  0   0   0   1   8   6   4   0   0]\n",
      " [  0   0   0   0   4   0   0   0   0]]\n"
     ]
    },
    {
     "data": {
      "image/png": "[encoded data removed]",
      "text/plain": [
       "<matplotlib.figure.Figure at 0xeec0a20>"
      ]
     },
     "metadata": {},
     "output_type": "display_data"
    }
   ],
   "source": [
    "\n",
    "#How well does a decision tree model work to predict these data?\n",
    "X_train, X_test, y_train, y_test = train_test_split(dfred,y,test_size=0.10, random_state=1) #split the data for training\n",
    "\n",
    "#dtc = tree.DecisionTreeClassifier(min_samples_leaf=2)\n",
    "dtc = ensemble.RandomForestClassifier(n_estimators=200,min_samples_leaf=5)\n",
    "#dtc = svm.SVC(kernel='rbf',gamma=10,C=100,probability=True)\n",
    "dtc.fit(X_train,y_train)\n",
    "print( \"score = {}\".format(dtc.score(X_test,y_test)))\n",
    "print (dtc.feature_importances_)\n",
    "pdata =dtc.predict(X_test)\n",
    "\n",
    "#dtc_probs = dtc.predict_proba(X_test)\n",
    "#score = log_loss(y_test, dtc_probs)\n",
    "#print( \"logloss = {}\".format(score))\n",
    "cm = confusion_matrix(y_test, pdata)\n",
    "np.set_printoptions(precision=2)\n",
    "print('Confusion matrix, without normalization')\n",
    "print(cm)\n",
    "plt.figure()\n",
    "plot_confusion_matrix(cm)"
   ]
  },
  {
   "cell_type": "markdown",
   "metadata": {
    "collapsed": false,
    "deletable": true,
    "editable": true
   },
   "source": [
    "Although the model only has about 40% accuracy, it does take the inputs and make a prediction. This is good enough for now."
   ]
  }
 ],
 "metadata": {
  "anaconda-cloud": {},
  "kernelspec": {
   "display_name": "Python 2",
   "language": "python",
   "name": "python2"
  },
  "language_info": {
   "codemirror_mode": {
    "name": "ipython",
    "version": 2
   },
   "file_extension": ".py",
   "mimetype": "text/x-python",
   "name": "python",
   "nbconvert_exporter": "python",
   "pygments_lexer": "ipython2",
   "version": "2.7.13"
  }
 },
 "nbformat": 4,
 "nbformat_minor": 0
}
